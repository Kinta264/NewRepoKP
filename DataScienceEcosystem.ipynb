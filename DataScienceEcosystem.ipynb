{
 "cells": [
  {
   "cell_type": "markdown",
   "id": "c86cc120-a970-4631-912f-4b6a4de97341",
   "metadata": {},
   "source": [
    "# Data Science Tools and Ecosystem"
   ]
  },
  {
   "cell_type": "markdown",
   "id": "fd2a0430-1a76-49ce-95fc-bc697ddf9643",
   "metadata": {},
   "source": [
    "##### In this notebook, Data Science Tools and Ecosystem are summarized."
   ]
  },
  {
   "cell_type": "markdown",
   "id": "b6fdf69b-feb6-4770-bd28-c441c2b0ade4",
   "metadata": {},
   "source": [
    "**Objectives:**"
   ]
  },
  {
   "cell_type": "markdown",
   "id": "034caa36-1d29-4d8b-a405-9ed6a174b63c",
   "metadata": {},
   "source": [
    "- List the popular languages used in Data Science\n",
    "- List the commonly used libraries for Data Science\n",
    "- List the popular environments used for Data science\n",
    "- How to execute code of arithmetic expressions"
   ]
  },
  {
   "cell_type": "markdown",
   "id": "5f697b5f-fa9c-45a1-81f8-dbaed6764a32",
   "metadata": {},
   "source": [
    "##### Some of the popular languages that Data Scientists use are:"
   ]
  },
  {
   "cell_type": "markdown",
   "id": "5db718c0-a89b-4ae0-bd96-8f66cf503417",
   "metadata": {},
   "source": [
    "- Python\n",
    "- R\n",
    "- SQL\n",
    "- Scala\n",
    "- Java\n",
    "- C++\n",
    "- Julia"
   ]
  },
  {
   "cell_type": "markdown",
   "id": "f095843f-1175-4a70-8a77-32be7f681d88",
   "metadata": {},
   "source": [
    "##### Some of the commonly used libraries used by Data Scientists include:"
   ]
  },
  {
   "cell_type": "markdown",
   "id": "460c082e-ab4b-4557-a8c8-0b59d1233983",
   "metadata": {},
   "source": [
    "* Pandas\n",
    "* Numpy\n",
    "* Matplotlib\n",
    "* Scikit-learn\n",
    "* Apache spark\n",
    "* Tensor flow"
   ]
  },
  {
   "cell_type": "markdown",
   "id": "2af29afe-ae5e-4cfd-9f5c-31d160a9d754",
   "metadata": {},
   "source": [
    "| Data Science Tools |\n",
    "|--------------------|\n",
    "| Jupyter Lab |\n",
    "| RStudio |\n",
    "| VS Code |"
   ]
  },
  {
   "cell_type": "markdown",
   "id": "5dd0871e-01ab-4dcb-ad54-40cc2331f903",
   "metadata": {},
   "source": [
    "### Below are a few examples of evaluating arithmetic expressions in Python"
   ]
  },
  {
   "cell_type": "markdown",
   "id": "6bef67e5-3479-4931-a313-1e1a56c54dae",
   "metadata": {},
   "source": [
    "##### This a simple arithmetic expression to multiply then add integers"
   ]
  },
  {
   "cell_type": "code",
   "execution_count": 1,
   "id": "945473f9-fff5-411b-b79c-f9393adce6d3",
   "metadata": {
    "tags": []
   },
   "outputs": [
    {
     "data": {
      "text/plain": [
       "17"
      ]
     },
     "execution_count": 1,
     "metadata": {},
     "output_type": "execute_result"
    }
   ],
   "source": [
    "(3*4)+5"
   ]
  },
  {
   "cell_type": "markdown",
   "id": "77acccf8-ef88-4ff0-a7a0-4fcb0b688867",
   "metadata": {},
   "source": [
    "##### This will convert 200 minutes to hours by dividing by 60"
   ]
  },
  {
   "cell_type": "code",
   "execution_count": 2,
   "id": "4206ce60-0c24-49c1-a961-4cbe7b60eff4",
   "metadata": {
    "tags": []
   },
   "outputs": [
    {
     "data": {
      "text/plain": [
       "3.3333333333333335"
      ]
     },
     "execution_count": 2,
     "metadata": {},
     "output_type": "execute_result"
    }
   ],
   "source": [
    "200/60"
   ]
  },
  {
   "cell_type": "markdown",
   "id": "538ecbbe-bd37-482c-be1f-2c74b1e10a63",
   "metadata": {},
   "source": [
    "## Author"
   ]
  },
  {
   "cell_type": "markdown",
   "id": "65ce8a7c-3830-4895-824d-2c1e4a33b472",
   "metadata": {},
   "source": [
    "Kinta Petonia"
   ]
  },
  {
   "cell_type": "code",
   "execution_count": null,
   "id": "eb99876d-73b2-47d4-9e49-0dc37d5f8f1b",
   "metadata": {},
   "outputs": [],
   "source": []
  }
 ],
 "metadata": {
  "kernelspec": {
   "display_name": "Python",
   "language": "python",
   "name": "conda-env-python-py"
  },
  "language_info": {
   "codemirror_mode": {
    "name": "ipython",
    "version": 3
   },
   "file_extension": ".py",
   "mimetype": "text/x-python",
   "name": "python",
   "nbconvert_exporter": "python",
   "pygments_lexer": "ipython3",
   "version": "3.7.12"
  }
 },
 "nbformat": 4,
 "nbformat_minor": 5
}
